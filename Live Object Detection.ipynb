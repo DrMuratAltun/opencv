{
 "cells": [
  {
   "cell_type": "markdown",
   "id": "c9dce570",
   "metadata": {},
   "source": [
    "# Live Object Detection"
   ]
  },
  {
   "cell_type": "code",
   "execution_count": 1,
   "id": "7249b561",
   "metadata": {},
   "outputs": [],
   "source": [
    "#pip install opencv-python"
   ]
  },
  {
   "cell_type": "code",
   "execution_count": 1,
   "id": "e4fe7454",
   "metadata": {},
   "outputs": [
    {
     "name": "stdout",
     "output_type": "stream",
     "text": [
      "Defaulting to user installation because normal site-packages is not writeable\n",
      "Requirement already satisfied: cvlib in c:\\users\\emura\\appdata\\roaming\\python\\python311\\site-packages (0.2.7)\n",
      "Requirement already satisfied: numpy in c:\\programdata\\anaconda3\\lib\\site-packages (from cvlib) (1.24.3)\n",
      "Requirement already satisfied: progressbar in c:\\users\\emura\\appdata\\roaming\\python\\python311\\site-packages (from cvlib) (2.5)\n",
      "Requirement already satisfied: requests in c:\\users\\emura\\appdata\\roaming\\python\\python311\\site-packages (from cvlib) (2.31.0)\n",
      "Requirement already satisfied: pillow in c:\\programdata\\anaconda3\\lib\\site-packages (from cvlib) (9.4.0)\n",
      "Requirement already satisfied: imageio in c:\\programdata\\anaconda3\\lib\\site-packages (from cvlib) (2.26.0)\n",
      "Requirement already satisfied: imutils in c:\\users\\emura\\appdata\\roaming\\python\\python311\\site-packages (from cvlib) (0.5.4)\n",
      "Requirement already satisfied: charset-normalizer<4,>=2 in c:\\programdata\\anaconda3\\lib\\site-packages (from requests->cvlib) (2.0.4)\n",
      "Requirement already satisfied: idna<4,>=2.5 in c:\\users\\emura\\appdata\\roaming\\python\\python311\\site-packages (from requests->cvlib) (2.10)\n",
      "Requirement already satisfied: urllib3<3,>=1.21.1 in c:\\programdata\\anaconda3\\lib\\site-packages (from requests->cvlib) (1.26.16)\n",
      "Requirement already satisfied: certifi>=2017.4.17 in c:\\programdata\\anaconda3\\lib\\site-packages (from requests->cvlib) (2023.7.22)\n",
      "Note: you may need to restart the kernel to use updated packages.\n"
     ]
    }
   ],
   "source": [
    "pip install cvlib"
   ]
  },
  {
   "cell_type": "code",
   "execution_count": 2,
   "id": "f230f4cd",
   "metadata": {},
   "outputs": [
    {
     "name": "stdout",
     "output_type": "stream",
     "text": [
      "WARNING:tensorflow:From C:\\Users\\emura\\AppData\\Roaming\\Python\\Python311\\site-packages\\keras\\src\\losses.py:2976: The name tf.losses.sparse_softmax_cross_entropy is deprecated. Please use tf.compat.v1.losses.sparse_softmax_cross_entropy instead.\n",
      "\n"
     ]
    }
   ],
   "source": [
    "import cvlib as cv\n",
    "from cvlib.object_detection import draw_bbox  # YOLO\n",
    "import cv2\n",
    "\n",
    "# Ipcam ile Ip üzerinden de görüntü alınabilir.\n",
    "webcam = cv2.VideoCapture(0)\n",
    "\n",
    "while webcam.isOpened():\n",
    "    ret, frame = webcam.read()\n",
    "    if ret:\n",
    "        bbox, label, conf = cv.detect_common_objects(frame)\n",
    "        out = draw_bbox(frame, bbox, label, conf)\n",
    "        cv2.imshow('Gerçek zamanlı nesne tanıma', out)\n",
    "        if cv2.waitKey(1) & 0xFF == ord('q'):\n",
    "            break\n",
    "    else:\n",
    "        break\n",
    "\n",
    "webcam.release()\n",
    "cv2.destroyAllWindows()"
   ]
  },
  {
   "cell_type": "code",
   "execution_count": 4,
   "id": "7be15f4f",
   "metadata": {},
   "outputs": [],
   "source": [
    "#IP cam\n",
    "import cvlib as cv\n",
    "from cvlib.object_detection import draw_bbox  # YOLO\n",
    "import cv2\n",
    "\n",
    "# Ipcam ile Ip üzerinden de görüntü alınabilir.\n",
    "#webcam = cv2.VideoCapture('http://10.33.158.53:8080/video')\n",
    "webcam = cv2.VideoCapture(0)\n",
    "while webcam.isOpened():\n",
    "    ret, frame = webcam.read()\n",
    "    if ret:\n",
    "        bbox, label, conf = cv.detect_common_objects(frame)\n",
    "        out = draw_bbox(frame, bbox, label, conf)\n",
    "        cv2.imshow('Gerçek zamanlı nesne tanıma', out)\n",
    "        if cv2.waitKey(1) & 0xFF == ord('q'):\n",
    "            break\n",
    "    else:\n",
    "        break\n",
    "\n",
    "webcam.release()\n",
    "cv2.destroyAllWindows()"
   ]
  },
  {
   "cell_type": "code",
   "execution_count": null,
   "id": "6cc3fd85",
   "metadata": {},
   "outputs": [],
   "source": []
  }
 ],
 "metadata": {
  "kernelspec": {
   "display_name": "Python 3 (ipykernel)",
   "language": "python",
   "name": "python3"
  },
  "language_info": {
   "codemirror_mode": {
    "name": "ipython",
    "version": 3
   },
   "file_extension": ".py",
   "mimetype": "text/x-python",
   "name": "python",
   "nbconvert_exporter": "python",
   "pygments_lexer": "ipython3",
   "version": "3.11.5"
  }
 },
 "nbformat": 4,
 "nbformat_minor": 5
}
